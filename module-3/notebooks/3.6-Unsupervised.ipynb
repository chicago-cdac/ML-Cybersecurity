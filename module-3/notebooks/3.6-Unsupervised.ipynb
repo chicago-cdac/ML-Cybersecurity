{
 "cells": [
  {
   "cell_type": "markdown",
   "id": "atmospheric-converter",
   "metadata": {},
   "source": [
    "# Unsupervised Learning Algorithms for Outlier Detection\n",
    "\n",
    "netml is a network anomaly detection tool & library written in Python. It uses outlier detection algorithms, which can operate on unlabeled traffic, as well. In this lab, we have labeled traffic as outliers and normal traffic, which allows these algorithms to declare and learn thresholds for outlier detection.\n",
    "\n",
    "## Learning Objectives\n",
    "\n",
    "1. Learn about the netml python library.\n",
    "2. Apply the library to example network traffic.\n",
    "3. Learn how to apply a trained outlier detection model to your own traffic capture.\n",
    "\n",
    "## Tasks\n",
    "\n",
    "1. Install the netml library.\n",
    "2. Run it on the provided test traffic to train a model.\n",
    "3. Capture a traffic trace of your own to try to detect outliers\n",
    "\n",
    "---\n",
    "\n",
    "\n",
    "## Labeling the Network Traffic"
   ]
  },
  {
   "cell_type": "code",
   "execution_count": 7,
   "id": "south-thong",
   "metadata": {},
   "outputs": [
    {
     "name": "stdout",
     "output_type": "stream",
     "text": [
      "'_pcap2flows()' starts at 2021-04-12 09:49:50\n",
      "pcap_file: ../data/demo.pcap\n",
      "ith_packets: 0\n",
      "len(flows): 188\n",
      "total number of flows: 188. Num of flows < 2 pkts: 0, and >=2 pkts: 188 without timeout splitting.\n",
      "kept flows: 188. Each of them has at least 2 pkts after timeout splitting.\n",
      "flow_durations.shape: (188, 1)\n",
      "        col_0\n",
      "count 188.000\n",
      "mean    7.901\n",
      "std    28.353\n",
      "min     0.000\n",
      "25%     0.000\n",
      "50%     0.001\n",
      "75%     0.593\n",
      "max   172.205\n",
      "<class 'pandas.core.frame.DataFrame'>\n",
      "RangeIndex: 188 entries, 0 to 187\n",
      "Data columns (total 1 columns):\n",
      " #   Column  Non-Null Count  Dtype  \n",
      "---  ------  --------------  -----  \n",
      " 0   col_0   188 non-null    float64\n",
      "dtypes: float64(1)\n",
      "memory usage: 1.6 KB\n",
      "None\n",
      "0th_flow: len(pkts): 52\n",
      "After splitting flows, the number of subflows: 196 and each of them has at least 2 packets.\n",
      "'_pcap2flows()' ends at 2021-04-12 09:49:51 and takes 0.0277 mins.\n",
      "'_label_flows()' starts at 2021-04-12 09:49:51\n",
      "Label CSV 0th row\n",
      "Number of labelled flows: 88; number of not existed flows: 108\n",
      "'_label_flows()' ends at 2021-04-12 09:49:52 and takes 0.0126 mins.\n",
      "'_flow2features()' starts at 2021-04-12 09:49:52\n",
      "True\n",
      "'_flow2features()' ends at 2021-04-12 09:49:52 and takes 0.0001 mins.\n",
      "(88, 2) 0.0277 0.0001\n"
     ]
    }
   ],
   "source": [
    "from netml.pparser.parser import PCAP\n",
    "from netml.utils.tool import dump_data\n",
    "\n",
    "pcap = PCAP(\n",
    "    '../data/demo.pcap',\n",
    "    flow_ptks_thres=2,\n",
    "    random_state=42,\n",
    "    verbose=10,\n",
    ")\n",
    "\n",
    "# extract flows from pcap\n",
    "pcap.pcap2flows(q_interval=0.9)\n",
    "\n",
    "# label each flow (optional)\n",
    "pcap.label_flows(label_file='../data/demo.csv')\n",
    "\n",
    "# extract features from each flow via IAT\n",
    "pcap.flow2features('IAT', fft=False, header=False)\n",
    "\n",
    "# dump data to disk\n",
    "dump_data((pcap.features, pcap.labels), out_file='../out/IAT-features.dat')\n",
    "\n",
    "# stats\n",
    "print(pcap.features.shape, pcap.pcap2flows.tot_time, pcap.flow2features.tot_time)"
   ]
  },
  {
   "cell_type": "markdown",
   "id": "friendly-cutting",
   "metadata": {},
   "source": [
    "## Training the Models"
   ]
  },
  {
   "cell_type": "code",
   "execution_count": 8,
   "id": "corrected-specification",
   "metadata": {},
   "outputs": [
    {
     "name": "stdout",
     "output_type": "stream",
     "text": [
      "'_train()' starts at 2021-04-12 09:50:03\n",
      "'_train()' ends at 2021-04-12 09:50:03 and takes 0.0 mins.\n",
      "'_test()' starts at 2021-04-12 09:50:03\n",
      "'_test()' ends at 2021-04-12 09:50:03 and takes 0.0 mins.\n",
      "0.0 0.0 0.43200000000000005\n"
     ]
    }
   ],
   "source": [
    "from sklearn.model_selection import train_test_split\n",
    "\n",
    "from netml.ndm.model import MODEL\n",
    "from netml.ndm.ocsvm import OCSVM\n",
    "from netml.utils.tool import dump_data, load_data\n",
    "\n",
    "import warnings\n",
    "warnings.simplefilter(action='ignore', category=FutureWarning)\n",
    "\n",
    "RANDOM_STATE = 42\n",
    "\n",
    "# load data\n",
    "(features, labels) = load_data('../out/IAT-features.dat')\n",
    "\n",
    "# split train and test sets\n",
    "(\n",
    "    features_train,\n",
    "    features_test,\n",
    "    labels_train,\n",
    "    labels_test,\n",
    ") = train_test_split(features, labels, test_size=0.33, random_state=RANDOM_STATE)\n",
    "\n",
    "# create detection model\n",
    "ocsvm = OCSVM(kernel='rbf', nu=0.5, random_state=RANDOM_STATE)\n",
    "ocsvm.name = 'OCSVM'\n",
    "ndm = MODEL(ocsvm, score_metric='auc', verbose=10, random_state=RANDOM_STATE)\n",
    "\n",
    "# train the model from the train set\n",
    "ndm.train(features_train)\n",
    "\n",
    "# evaluate the trained model\n",
    "ndm.test(features_test, labels_test)\n",
    "\n",
    "# dump data to disk\n",
    "dump_data((ocsvm, ndm.history), out_file='../out/OCSVM-results.dat')\n",
    "\n",
    "# stats\n",
    "print(ndm.train.tot_time, ndm.test.tot_time, ndm.score)"
   ]
  },
  {
   "cell_type": "markdown",
   "id": "foster-evans",
   "metadata": {},
   "source": [
    "## Classification of Network Traffic for Outlier Detection"
   ]
  },
  {
   "cell_type": "code",
   "execution_count": null,
   "id": "cardiac-discrimination",
   "metadata": {},
   "outputs": [],
   "source": []
  }
 ],
 "metadata": {
  "kernelspec": {
   "display_name": "Python 3",
   "language": "python",
   "name": "python3"
  },
  "language_info": {
   "codemirror_mode": {
    "name": "ipython",
    "version": 3
   },
   "file_extension": ".py",
   "mimetype": "text/x-python",
   "name": "python",
   "nbconvert_exporter": "python",
   "pygments_lexer": "ipython3",
   "version": "3.8.5"
  }
 },
 "nbformat": 4,
 "nbformat_minor": 5
}
