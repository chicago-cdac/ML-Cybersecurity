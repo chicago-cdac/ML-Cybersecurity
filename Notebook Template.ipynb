{
 "cells": [
  {
   "cell_type": "markdown",
   "metadata": {},
   "source": [
    "# Notebook Title\n",
    "\n",
    "Notebook introduction, giving an overview and describing how it relates to the other learning materials, how learners should approach the notebook (for self-study? Or will it be used in a breakout during the live sessions?), and any professionally applicable use cases.\n",
    "\n",
    "When possible, introduce connective tissue by gesturing backwards to the videos or earlier modules, or forwards to the live sessions or later modules--e.g., \"in an earlier video in this module, we gave an overview of how ML can be used for anomaly detection. In this notebook, you will see how to implement such methods using real-world data.\"\n",
    "\n",
    "Make sure to indicate what the objectives or takeaways are, especially if a notebook is on the more theoretical side--e.g., if the point of a notebook is to show how an algorithm or process works under the hood, rather than how learners might apply that algorithm or process professionally. Some language around the \"expected time Commitment\" is below.\n",
    "\n",
    "**Expected Time Commitment**: X minutes/hours. Don't spend significantly more time than this going through this notebook. We will have time to briefly review it and take questions during the live sessions."
   ]
  },
  {
   "cell_type": "markdown",
   "metadata": {},
   "source": [
    "## Subheader\n",
    "\n",
    "You may divide your notebook into subsections and sub-subsections for readability and interpretability. It's a good idea to provide some context at least for each major code chunk. That may mean introducing the code and describing how it fits into the overall process. Or, it may mean telling learners who to do with it--for example, encouraging them to adjust certain parameters to see how they affect the output, insert or remove snippets, etc."
   ]
  },
  {
   "cell_type": "code",
   "execution_count": null,
   "metadata": {},
   "outputs": [],
   "source": [
    "# Comments and callouts are always useful\n",
    "# It's helpful in particular to flag parameters etc. that learners may want to experiment with"
   ]
  }
 ],
 "metadata": {
  "kernelspec": {
   "display_name": "Python 3",
   "language": "python",
   "name": "python3"
  },
  "language_info": {
   "codemirror_mode": {
    "name": "ipython",
    "version": 3
   },
   "file_extension": ".py",
   "mimetype": "text/x-python",
   "name": "python",
   "nbconvert_exporter": "python",
   "pygments_lexer": "ipython3",
   "version": "3.7.6"
  }
 },
 "nbformat": 4,
 "nbformat_minor": 2
}
