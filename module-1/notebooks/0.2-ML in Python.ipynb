{
  "nbformat": 4,
  "nbformat_minor": 0,
  "metadata": {
    "colab": {
      "name": "0.2-ML in Python.ipynb",
      "provenance": [],
      "collapsed_sections": []
    },
    "kernelspec": {
      "name": "python3",
      "display_name": "Python 3"
    },
    "language_info": {
      "name": "python"
    }
  },
  "cells": [
    {
      "cell_type": "markdown",
      "metadata": {
        "id": "jIeRkc72a7Jw"
      },
      "source": [
        "# A practical guide to constructing a classifier (in Python)\n",
        "\n",
        "In this tutoral, you will learn to construct a linear classification model, and apply it to a simulated spam filtering task.\n",
        "\n",
        "## Learning Objectives\n",
        "By the end of this lab, you should understand the following:\n",
        "\n",
        "* How to use basic math and machine learning modules in python such as numpy, matplotlib, and sklearn\n",
        "* How to train ML models from scratch\n",
        "* How to evaluate the test results and visualize the outcome of an ML model"
      ]
    },
    {
      "cell_type": "markdown",
      "metadata": {
        "id": "b17L_MX5bKti"
      },
      "source": [
        "## Loading math, machine learning, and visualization modules\n",
        "We start importing some modules and running some magic commands"
      ]
    },
    {
      "cell_type": "code",
      "metadata": {
        "id": "MeWFfBJJbOfP"
      },
      "source": [
        "%matplotlib inline\n",
        "\n",
        "# General math and plotting modules.\n",
        "import numpy as np\n",
        "import matplotlib.pyplot as plt\n",
        "from matplotlib.colors import ListedColormap\n",
        "\n",
        "# Machine Learning library. \n",
        "from sklearn.model_selection import train_test_split\n",
        "from sklearn.preprocessing import StandardScaler\n",
        "from sklearn.datasets import make_classification\n"
      ],
      "execution_count": null,
      "outputs": []
    },
    {
      "cell_type": "markdown",
      "metadata": {
        "id": "lkl8Q-GwbPof"
      },
      "source": [
        "## Data loader\n",
        "\n",
        "Loading and processing dataset (cf the statistical learning framework as introduced in module 1.1, 1.2)."
      ]
    },
    {
      "cell_type": "code",
      "metadata": {
        "id": "8XCcrUI2bcDj"
      },
      "source": [
        "X, y = make_classification(n_features=2, \n",
        "                           n_redundant=0, \n",
        "                           n_informative=2,\n",
        "                           random_state=1, \n",
        "                           n_clusters_per_class=1)\n",
        "\n",
        "rng = np.random.RandomState(2)\n",
        "X += 3*rng.uniform(size=X.shape)\n",
        "linearly_separable = (X, y)\n",
        "\n",
        "X = StandardScaler().fit_transform(X)\n",
        "X_train, X_test, y_train, y_test = \\\n",
        "    train_test_split(X, y, test_size=.4, random_state=42)"
      ],
      "execution_count": null,
      "outputs": []
    },
    {
      "cell_type": "markdown",
      "metadata": {
        "id": "3ap03CEJbdTS"
      },
      "source": [
        "## The key ingredient of model training: defining the loss\n",
        "\n",
        "In the following exercise, you will write you own loss function for a binar classification task (cf module 1.1, 1,2). \n",
        "\n",
        "This could be used for binary classification applications such as spam filtering.\n"
      ]
    },
    {
      "cell_type": "markdown",
      "metadata": {
        "id": "yw4uihethO80"
      },
      "source": [
        "### The Logistic Regression Algorithm\n",
        "\n",
        "The logistic loss is defined as: $$L(w; X, Y) = \\sum_{i=1}^{N} L_{\\sigma}(w; x_i, y_i) = \\sum_{i=1}^{N} \\log \\left( 1 + \\exp \\left(-y_i w^\\top x_i \\right) \\right) .$$\n",
        "\n",
        "The loss function is differentiable, hence the gradient is:\n",
        "\n",
        "$$ \\frac{\\partial L_{\\sigma}(w; x_i, y_i)}{\\partial w} = -\\frac{\\exp \\left(-y_i w^\\top x_i \\right)}{1+\\exp \\left(-y_i w^\\top x_i \\right)} y x_i$$"
      ]
    },
    {
      "cell_type": "code",
      "metadata": {
        "colab": {
          "base_uri": "https://localhost:8080/"
        },
        "id": "loDIVdu1bhgW",
        "outputId": "ff828aeb-d8a2-4a4b-9db1-5b9dc511b3e6"
      },
      "source": [
        "def sigmoid(z):\n",
        "    \"\"\"\n",
        "    return the sigmoid of z\n",
        "    \"\"\"\n",
        "    return 1/ (1 + np.exp(-z))\n",
        "\n",
        "# Constructing \"sigmoid\" loss function for binary classification.\n",
        "def lossFunction(theta, X, y ,Lambda):\n",
        "    \"\"\"\n",
        "    Take in numpy array of theta, X, and y to return the regularize loss function and gradient\n",
        "    of a logistic regression\n",
        "    \"\"\"\n",
        "    m=len(y)\n",
        "    y=y[:,np.newaxis]\n",
        "    predictions = sigmoid(X @ theta)\n",
        "    error = (-y * np.log(predictions)) - ((1-y)*np.log(1-predictions))\n",
        "    loss = 1/m * sum(error)\n",
        "    \n",
        "    # regularized loss function with L2 regularizer\n",
        "    regLoss = loss + Lambda/(2*m) * sum(theta**2)\n",
        "    \n",
        "    # compute gradient\n",
        "    j_0= 1/m * (X.transpose() @ (predictions - y))[0]\n",
        "    j_1 = 1/m * (X.transpose() @ (predictions - y))[1:] + (Lambda/m)* theta[1:]\n",
        "    grad= np.vstack((j_0[:,np.newaxis],j_1))\n",
        "    return regLoss[0], grad\n",
        "\n",
        "# Initialize fitting parameters\n",
        "initial_theta = np.zeros((X.shape[1], 1))\n",
        "# Set regularization parameter lambda to 1\n",
        "Lambda = 0.1\n",
        "Eta = 0.01\n",
        "Tolerance=1e-6\n",
        "\n",
        "#Compute and display initial loss and gradient for regularized logistic regression\n",
        "loss, grad=lossFunction(initial_theta, X, y, Lambda)\n",
        "print(\"Loss at initial theta (zeros):\",loss)\n"
      ],
      "execution_count": null,
      "outputs": [
        {
          "output_type": "stream",
          "text": [
            "Loss at initial theta (zeros): 0.693147180559946\n"
          ],
          "name": "stdout"
        }
      ]
    },
    {
      "cell_type": "markdown",
      "metadata": {
        "id": "DGQE18BHkK6q"
      },
      "source": [
        "Note that in Line 18, \n",
        "`regLoss = loss + Lambda/(2*m) * sum(theta**2)`\n",
        "corresponds to the regularized loss function."
      ]
    },
    {
      "cell_type": "markdown",
      "metadata": {
        "id": "Yqw5XHeUbjbD"
      },
      "source": [
        "## Training your classifier\n",
        "\n",
        "There are many algorithmic tools for training your classifier. Here, we use the popular gradient descent algorithm:"
      ]
    },
    {
      "cell_type": "markdown",
      "metadata": {
        "id": "49nQvov5i1Pi"
      },
      "source": [
        "### Gradient Descent Algorithm:\n",
        "\n",
        "The parameters $\\hat{w}$ can be updated via a gradient descent rule: \n",
        "\n",
        "$$ \\hat{w}_{k+1} \\gets \\hat{w}_k - \\eta_k \\left.\\frac{\\partial L}{\\partial w} \\right|_{w=w_k},$$\n",
        "\n",
        "where $\\eta_k$ is a parameter of the algorithm, $k$ is the iteration index, and $\\frac{\\partial L}{\\partial w}$\n",
        "\n",
        "Recall that the gradients of L with respect to the parameters are:\n",
        "\n",
        "$$ \\frac{\\partial L_{\\sigma}(w; x_i, y_i)}{\\partial w} = -\\frac{\\exp \\left(-y_i w^\\top x_i \\right)}{1+\\exp \\left(-y_i w^\\top x_i \\right)} y x_i$$\n",
        "\n",
        "In the *vanilla* gradient descent method, $\\eta(k)=\\eta_0$ is a constant. However other algorithms exists that modify this.\n",
        "\n",
        "The computational complexity of Gradient descent is $O(n_{\\text{iter}} \\cdot  n d)$. "
      ]
    },
    {
      "cell_type": "code",
      "metadata": {
        "colab": {
          "base_uri": "https://localhost:8080/",
          "height": 363
        },
        "id": "-7BxL5nWbkzd",
        "outputId": "cbce1ff1-48a2-4f8d-b840-91a77f8710b5"
      },
      "source": [
        "def gradientDescent(X,y,theta,eta,Lambda,tolerance):\n",
        "    \"\"\"\n",
        "    Take in numpy array X, y and theta and update theta by taking num_iters gradient steps\n",
        "    with learning rate of eta\n",
        "    \n",
        "    return theta and the list of the loss of theta during each iteration\n",
        "    \"\"\"\n",
        "    m=len(y)\n",
        "    Loss_history =[]\n",
        "    \n",
        "    prev_loss = 10000\n",
        "    loss, grad = lossFunction(theta,X,y,Lambda)\n",
        "\n",
        "    while abs(loss - prev_loss) > tolerance:\n",
        "        theta = theta - (eta * grad)\n",
        "        prev_loss = loss\n",
        "        loss, grad = lossFunction(theta,X,y,Lambda)\n",
        "        \n",
        "        Loss_history.append(loss)\n",
        "    \n",
        "    return theta , Loss_history\n",
        "\n",
        "theta, Loss_history = gradientDescent(X,y,initial_theta,Eta,Lambda,Tolerance)\n",
        "print(\"The regularized theta using ridge regression:\\n\",theta)\n",
        "\n",
        "plt.plot(Loss_history)\n",
        "plt.xlabel(\"Iteration\")\n",
        "plt.ylabel(\"$Loss(\\Theta)$\")\n",
        "plt.title(\"Loss function using Gradient Descent\")"
      ],
      "execution_count": null,
      "outputs": [
        {
          "output_type": "stream",
          "text": [
            "The regularized theta using ridge regression:\n",
            " [[-3.25276187]\n",
            " [ 0.17232828]]\n"
          ],
          "name": "stdout"
        },
        {
          "output_type": "execute_result",
          "data": {
            "text/plain": [
              "Text(0.5, 1.0, 'Loss function using Gradient Descent')"
            ]
          },
          "metadata": {
            "tags": []
          },
          "execution_count": 4
        },
        {
          "output_type": "display_data",
          "data": {
            "image/png": "[encoded data removed]",
            "text/plain": [
              "<Figure size 432x288 with 1 Axes>"
            ]
          },
          "metadata": {
            "tags": [],
            "needs_background": "light"
          }
        }
      ]
    },
    {
      "cell_type": "markdown",
      "metadata": {
        "id": "CP4n8TaXbm8K"
      },
      "source": [
        "## Test module\n",
        "\n",
        "We still need a method to evaluate the model constructed."
      ]
    },
    {
      "cell_type": "code",
      "metadata": {
        "colab": {
          "base_uri": "https://localhost:8080/"
        },
        "id": "fiHPP8RqboHE",
        "outputId": "80c60bca-8984-4211-d6ab-dcb5ac55017e"
      },
      "source": [
        "def classifierPredict(theta,X):\n",
        "    \"\"\"\n",
        "    take in numpy array of theta and X and predict the class \n",
        "    \"\"\"\n",
        "    predictions = X.dot(theta)\n",
        "    \n",
        "    return predictions>0\n",
        "\n",
        "p=classifierPredict(theta,X_train)\n",
        "print(\"Train Accuracy:\", \n",
        "      (sum(p==y_train[:,np.newaxis])/len(y_train) *100)[0],\"%\")\n",
        "\n",
        "p=classifierPredict(theta,X_test)\n",
        "print(\"Test Accuracy:\", \n",
        "      (sum(p==y_test[:,np.newaxis])/len(y_test) *100)[0],\"%\")"
      ],
      "execution_count": null,
      "outputs": [
        {
          "output_type": "stream",
          "text": [
            "Train Accuracy: 86.66666666666667 %\n",
            "Test Accuracy: 90.0 %\n"
          ],
          "name": "stdout"
        }
      ]
    },
    {
      "cell_type": "markdown",
      "metadata": {
        "id": "Y5-7WGUobp3f"
      },
      "source": [
        "## Test run\n",
        "\n",
        "Putting everything together, let's take a look at the final results."
      ]
    },
    {
      "cell_type": "code",
      "metadata": {
        "colab": {
          "base_uri": "https://localhost:8080/",
          "height": 299
        },
        "id": "f2BmFj7wbry8",
        "outputId": "8168f17b-b097-4683-c49d-dacf97ff8972"
      },
      "source": [
        "x_min, x_max = X[:, 0].min() - .5, X[:, 0].max() + .5\n",
        "y_min, y_max = X[:, 1].min() - .5, X[:, 1].max() + .5\n",
        "h = .02  # step size in the mesh\n",
        "xx, yy = np.meshgrid(np.arange(x_min, x_max, h),\n",
        "                     np.arange(y_min, y_max, h))\n",
        "\n",
        "# plot the dataset\n",
        "cm = plt.cm.RdBu\n",
        "cm_bright = ListedColormap(['#FF0000', '#0000FF'])\n",
        "\n",
        "# Plot the training points\n",
        "plt.scatter(X_train[:, 0], X_train[:, 1], c=y_train, \n",
        "            cmap=cm_bright,edgecolors='k')\n",
        "# and testing points\n",
        "plt.scatter(X_test[:, 0], X_test[:, 1], c=y_test,\n",
        "            cmap=cm_bright, alpha=0.6,edgecolors='k')\n",
        "\n",
        "grid = np.c_[xx.ravel(), yy.ravel()]\n",
        "probs = sigmoid(grid @ theta).reshape(xx.shape)\n",
        "\n",
        "plt.contour(xx,yy,np.round(probs),0)"
      ],
      "execution_count": null,
      "outputs": [
        {
          "output_type": "stream",
          "text": [
            "/usr/local/lib/python3.7/dist-packages/ipykernel_launcher.py:21: UserWarning: No contour levels were found within the data range.\n"
          ],
          "name": "stderr"
        },
        {
          "output_type": "execute_result",
          "data": {
            "text/plain": [
              "<matplotlib.contour.QuadContourSet at 0x7f1fedc5aa10>"
            ]
          },
          "metadata": {
            "tags": []
          },
          "execution_count": 6
        },
        {
          "output_type": "display_data",
          "data": {
            "image/png": "[encoded data removed]",
            "text/plain": [
              "<Figure size 432x288 with 1 Axes>"
            ]
          },
          "metadata": {
            "tags": [],
            "needs_background": "light"
          }
        }
      ]
    },
    {
      "cell_type": "markdown",
      "metadata": {
        "id": "Jt7JfaeEbu3w"
      },
      "source": [
        "## Going Further\n",
        "\n",
        "For homework, follow the above pipeline and try out some other loss functions, and plot their performance for the above classification tasks.\n",
        "\n",
        "Below are some alternative loss functions you may try out. These functions correspond to popular machine learning algorithms for classification:\n",
        "\n",
        "### The Perceptron Algorithm\n",
        "\n",
        "The perceptron loss is defined as: $$L(w; X, Y) =  \\sum_{i=1}^{N} L_p(w; x_i, y_i) = \\sum_{i=1}^{N} \\max \\{ 0, -y_i w^\\top x_i \\}.$$\n",
        "\n",
        "The loss function is continuous, but not differentialbe at $y_i w^\\top x_i=0$. The subgradient, however, exists and hence (stochastic) gradient descent converges. The subgradient is:\n",
        "\n",
        "$$ \\partial L_p(w; x_i,y_i) = \\left\\{\\begin{array}{cc} 0 & \\text{if } -y_i w^\\top x_i < 0 \\\\ -y_i x_i & \\text{if } -y_i w^\\top x_i > 0 \\\\ \\left[0, -y_i x_i \\right] & \\text{if } -y_i w^\\top x_i = 0 \\end{array}  \\right. $$\n",
        "\n",
        "\n",
        "### The SVM Algorithm\n",
        "\n",
        "The svm loss is defined as: $$L(w; X, Y) =  \\sum_{i=1}^{N} L_{\\text{svm}} (w; x_i, y_i) =  \\sum_{i=1}^{N} \\max \\{ 0, 1-y_i w^\\top x_i \\}.$$\n",
        "\n",
        "The loss function is continuous, but not differentialbe at $y_i w^\\top x_i=0$. The subgradient, however, exists and hence (stochastic) gradient descent converges. The subgradient is:\n",
        "\n",
        "$$ \\partial L_{\\text{svm}}(w;x_i,y_i) = \\left\\{\\begin{array}{cc} 0 & \\text{if } 1-y_i w^\\top x_i < 0 \\\\ -y_i x_i & \\text{if } 1-y_i w^\\top x_i > 0 \\\\ \\left[0, -y_i x_i \\right] & \\text{if } 1-y_i w^\\top x_i = 0 \\end{array}  \\right. $$\n",
        "\n",
        "The difference with the perceptron loss is that the SVM loss includes a loss margin. "
      ]
    }
  ]
}