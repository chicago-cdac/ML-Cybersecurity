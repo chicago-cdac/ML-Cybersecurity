{
 "cells": [
  {
   "cell_type": "markdown",
   "metadata": {},
   "source": [
    "# Installation instructions\n",
    "\n",
    "If you are new to Python or simply want a pain-free experience, I recommend you install the [Anaconda](https://www.anaconda.com/download/)) distribution. It comes with all you need shipped-in and ready to use!\n",
    "\n",
    "Once you have anaconda installed, you want to get either the [Jupyter Lab](http://jupyterlab.readthedocs.io/en/stable/), or the [Jupyter Notebook](http://jupyter.org/install.html). Typically, you can simply run:\n",
    "```bash\n",
    "conda install jupyter\n",
    "```\n",
    "\n",
    "For plotting modules such as numpy and matplotlib, simply follow the [instructions (https://anaconda.org/anaconda/numpy/). With anaconda, it should be something like:\n",
    "```bash\n",
    "conda install -c anaconda numpy\n",
    "conda install -c anaconda matplotlib\n",
    "```\n",
    "\n",
    "You can install Scikit-Learn using pip. In the command line, just type:\n",
    "```bash\n",
    "pip install scikit-learn\n",
    "```\n",
    "\n",
    "# Checking you have the correct versions of the required libraries\n",
    "First, open a jupyter lab (just type jupyter lab in the command line and open the link that appears) . You can also run the code directly in Python or IPython but it's not as nice. Generally, if you are not already familiar with jupyter lab or jupyter notebook, I recommend you spend a little time exploring as it's a very useful tool, especially for data science.\n",
    "\n",
    "To check you have all you need, you can run the following:"
   ]
  },
  {
   "cell_type": "code",
   "execution_count": 3,
   "metadata": {
    "collapsed": true
   },
   "outputs": [],
   "source": [
    "# General math and plotting modules.\n",
    "import numpy as np\n",
    "import matplotlib.pyplot as plt\n",
    "from matplotlib.colors import ListedColormap\n",
    "\n",
    "from scipy import stats\n",
    "\n",
    "import numpy as np\n",
    "import sklearn\n",
    "\n",
    "# For profiling the code\n",
    "import time"
   ]
  },
  {
   "cell_type": "markdown",
   "metadata": {},
   "source": [
    "The above is a \"minimal\" set of toolkits for building ML models based on the popular python packages. You can use the following code to check the version of libraries insalled.\n",
    "\n",
    "## Print the version of the library you installed"
   ]
  },
  {
   "cell_type": "code",
   "execution_count": 2,
   "metadata": {},
   "outputs": [
    {
     "name": "stdout",
     "output_type": "stream",
     "text": [
      "The scikit-learn version is 0.20.3.\n"
     ]
    }
   ],
   "source": [
    "\n",
    "print('The scikit-learn version is {}.'.format(sklearn.__version__))"
   ]
  },
  {
   "cell_type": "code",
   "execution_count": null,
   "metadata": {
    "collapsed": true
   },
   "outputs": [],
   "source": []
  }
 ],
 "metadata": {
  "kernelspec": {
   "display_name": "Python 3",
   "language": "python",
   "name": "python3"
  },
  "language_info": {
   "codemirror_mode": {
    "name": "ipython",
    "version": 3
   },
   "file_extension": ".py",
   "mimetype": "text/x-python",
   "name": "python",
   "nbconvert_exporter": "python",
   "pygments_lexer": "ipython3",
   "version": "3.7.2"
  }
 },
 "nbformat": 4,
 "nbformat_minor": 2
}
