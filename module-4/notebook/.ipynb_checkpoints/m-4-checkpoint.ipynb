{
 "cells": [
  {
   "cell_type": "markdown",
   "metadata": {},
   "source": [
    "# Module 4\n",
    "\n",
    "# Section 1 - Model building\n",
    "\n",
    "Machine learning starts with data. \n",
    "\n",
    "**TASK:** Read in the following dataset by simply running the following cell:"
   ]
  },
  {
   "cell_type": "code",
   "execution_count": 1,
   "metadata": {},
   "outputs": [
    {
     "name": "stdout",
     "output_type": "stream",
     "text": [
      "          id  user-age    account-class  account-age active-session  \\\n",
      "0          0        39        State-gov           13             No   \n",
      "1          1        50         Personal           13            Yes   \n",
      "2          2        38  Private-company            9            Yes   \n",
      "3          3        53  Private-company            7            Yes   \n",
      "4          4        28  Private-company           13            Yes   \n",
      "...      ...       ...              ...          ...            ...   \n",
      "32556  32556        27  Private-company           12            Yes   \n",
      "32557  32557        40  Private-company            9            Yes   \n",
      "32558  32558        58  Private-company            9             No   \n",
      "32559  32559        22  Private-company            9             No   \n",
      "32560  32560        52         Personal            9            Yes   \n",
      "\n",
      "      backup-email-provider    race      sex  minutes-spent-on-service  \\\n",
      "0                     other   White     Male                       NaN   \n",
      "1                     gmail   White     Male                       NaN   \n",
      "2                     other   White     Male                       NaN   \n",
      "3                     gmail   Black     Male                       NaN   \n",
      "4                       aol   Black   Female                       NaN   \n",
      "...                     ...     ...      ...                       ...   \n",
      "32556                   aol   White   Female                       NaN   \n",
      "32557                 gmail   White     Male                       NaN   \n",
      "32558            protonmail   White   Female                       NaN   \n",
      "32559             microsoft   White     Male                       NaN   \n",
      "32560                   aol   White   Female                       NaN   \n",
      "\n",
      "       time-of-day   login-country       label   blackbox-prediction  \n",
      "0               17   United-States      Benign      predicted-benign  \n",
      "1                4   United-States      Benign  predicted-fraudulent  \n",
      "2               17   United-States      Benign      predicted-benign  \n",
      "3               17   United-States      Benign      predicted-benign  \n",
      "4               17            Cuba      Benign      predicted-benign  \n",
      "...            ...             ...         ...                   ...  \n",
      "32556           16   United-States      Benign  predicted-fraudulent  \n",
      "32557           17   United-States  Fraudulent      predicted-benign  \n",
      "32558           17   United-States      Benign      predicted-benign  \n",
      "32559            6   United-States      Benign      predicted-benign  \n",
      "32560           17   United-States  Fraudulent  predicted-fraudulent  \n",
      "\n",
      "[32561 rows x 13 columns]\n"
     ]
    }
   ],
   "source": [
    "import pandas as pd\n",
    "data = pd.read_csv(\"data.csv\")\n",
    "print(data)"
   ]
  },
  {
   "cell_type": "markdown",
   "metadata": {},
   "source": [
    "## Data overview\n",
    "\n",
    "The data you just read in relates to **detecting fraudulent login attempts**. It has the following columns:\n",
    "\n",
    "* **id**: sequential ID numbers for the data rows\n",
    "\n",
    "* **user-age**: the age (in years) of the user\n",
    "\n",
    "* **account-class**: categories specifying whether the account is a *personal* account or related to various organizations that assign accounts with your provider\n",
    "\n",
    "* **account-age**: how long (in months) the account has been active\n",
    "\n",
    "* **active-session**: whether the user is signing in from a device that has previously had an active login session, as identified by their cookies\n",
    "\n",
    "* **backup-email-provider**: the service (e.g., gmail) through which their backup email is registered\n",
    "\n",
    "* **race**: the race of the user\n",
    "\n",
    "* **sex**: the sex of the user\n",
    "\n",
    "* **minutes-spent-on-service**: the total number of minutes the user has spent logged into the service\n",
    "\n",
    "* **time-of-day**: the hour of the day (0 - 23) during which the login attempt is being made\n",
    "\n",
    "* **login-country**: the country from which the login attempt is being made\n",
    "\n",
    "* **label**: a binary label indicating the ground truth of whether the login attempt was deemed **Benign** or **Fraudulent**\n",
    "\n",
    "\n",
    "### Data preparation\n",
    "\n",
    "First, you'll need to prepare your data. You'll first want to explore your data and decide which variables you do or do not want to include in your classifier, also verifying that the data seems to be in a reasonable form.\n",
    "\n",
    "In addition to making sure that the numeric data is properly encoded, there are several categorical variables in this dataset. For example, ``account-class`` contains information about the type of account. If we encode this variable naively, (e.g., gmail=0, yahoo=1, etc.) certain kinds of models (e.g., logistic regressions) will treat this coding as a statement that there is an *ordering* of these variables. The way to avoid this is by through **dummy-coding**, or creating columns with binary values to represent the different categories. Luckily, there is already a pandas function that does this for you: [get_dummies](https://pandas.pydata.org/docs/reference/api/pandas.get_dummies.html).\n",
    "\n",
    "**TASK:** Use the following cell to prepare your data:"
   ]
  },
  {
   "cell_type": "code",
   "execution_count": 2,
   "metadata": {},
   "outputs": [
    {
     "name": "stdout",
     "output_type": "stream",
     "text": [
      "       account-age  active-session_No  active-session_Yes\n",
      "0               13                  1                   0\n",
      "1               13                  0                   1\n",
      "2                9                  0                   1\n",
      "3                7                  0                   1\n",
      "4               13                  0                   1\n",
      "...            ...                ...                 ...\n",
      "32556           12                  0                   1\n",
      "32557            9                  0                   1\n",
      "32558            9                  1                   0\n",
      "32559            9                  1                   0\n",
      "32560            9                  0                   1\n",
      "\n",
      "[32561 rows x 3 columns]\n"
     ]
    }
   ],
   "source": [
    "# modify this code\n",
    "\n",
    "X = pd.get_dummies(pd.DataFrame(data, columns=['account-age', 'active-session']))\n",
    "print(X)"
   ]
  },
  {
   "cell_type": "markdown",
   "metadata": {},
   "source": [
    "This is technically already enough processing to build a model.\n",
    "\n",
    "**TASK:** Ignore the things we've said about being careful about data and model building. Run the code below to create sample models that try to predict whether or not a login attempt is fraudulent. Then, go back and edit this code and your pre-processing code above to remove features (variables) that are potentially problematic to use in prediction and fix any errors in how data is represented. Iterate on your model."
   ]
  },
  {
   "cell_type": "markdown",
   "metadata": {},
   "source": [
    "**WEIJIA, INSERT YOUR MODEL-BUILDING CODE HERE**"
   ]
  },
  {
   "cell_type": "markdown",
   "metadata": {},
   "source": [
    "**TASK:** Be prepared to explain to the group what modeling approach you used, variables you included in your model, as well as how you pre-processed them. Be prepared to report some notion of your model's accuracy."
   ]
  },
  {
   "cell_type": "markdown",
   "metadata": {},
   "source": [
    "# Section 2 - Fairness\n",
    "\n",
    "Now that you've gotten a sense of how models are built, let's look at fairness. \n",
    "\n",
    "**TASK:** Take the model(s) you've built and try computing different notions of their performance (accuracy, false positive rate, false negative rate, outcomes) for different sub-populations, referring to the demographic variables. What do you find?"
   ]
  },
  {
   "cell_type": "code",
   "execution_count": null,
   "metadata": {},
   "outputs": [],
   "source": [
    "**WEIJIA, INSERT YOUR MODEL-BUILDING CODE HERE**"
   ]
  },
  {
   "cell_type": "markdown",
   "metadata": {},
   "source": [
    "# Section 3 - Explainability"
   ]
  },
  {
   "cell_type": "markdown",
   "metadata": {},
   "source": [
    "Finally, think about how you will explain your model. What do you need to communicate? Google has a page about the [model cards approach](https://modelcards.withgoogle.com/about), including some [examples](https://modelcards.withgoogle.com/model-reports). You won't have nearly enough time to create a full version of a model card or anything similar, but be prepared for the following tasks:\n",
    "\n",
    "**TASK:** Prepare a short explanation *for your boss* about what the model does and why you are confident in deploying it. Think about the many aspects about which you might want to be confident about deploying this model. Describe for your boss how the model works, what the model does, and why they should trust you.\n",
    "\n",
    "**TASK:** Prepare a short explaination *for your customers* who are going to be trying to log into your service and whose login attempt will be classified by the model."
   ]
  }
 ],
 "metadata": {
  "kernelspec": {
   "display_name": "Python 3",
   "language": "python",
   "name": "python3"
  },
  "language_info": {
   "codemirror_mode": {
    "name": "ipython",
    "version": 3
   },
   "file_extension": ".py",
   "mimetype": "text/x-python",
   "name": "python",
   "nbconvert_exporter": "python",
   "pygments_lexer": "ipython3",
   "version": "3.8.5"
  }
 },
 "nbformat": 4,
 "nbformat_minor": 4
}
